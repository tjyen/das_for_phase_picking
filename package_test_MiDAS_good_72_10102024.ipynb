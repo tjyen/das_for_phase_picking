{
 "cells": [
  {
   "cell_type": "code",
   "execution_count": 1,
   "metadata": {
    "tags": []
   },
   "outputs": [],
   "source": [
    "#!python --version\n",
    "#import tarfile\n",
    "\n",
    "# open file\n",
    "#file = tarfile.open('EQNet.tar.gz')\n",
    "\n",
    "# extracting file\n",
    "#file.extractall('/home/tjyen/deep_learning/earth_sciences_related/MiDAS_example_01')\n",
    "\n",
    "#file.close()\n",
    "#!C:/Users/4019-tjyen/anaconda3/python.exe -m pip install --upgrade pip\n",
    "#!pip install --upgrade huggingface_hub\n",
    "#!pip install torch==2.3.0 torchvision==0.18.0 torchaudio==2.3.0 --index-url https://download.pytorch.org/whl/cu118\n",
    "#!pip install -U pandas matplotlib numpy wandb eqnet obspy\n",
    "\n",
    "#import glob\n",
    "#import tarfile\n",
    "#import os"
   ]
  },
  {
   "cell_type": "markdown",
   "metadata": {},
   "source": [
    "<font size = 6> Loading package </font>"
   ]
  },
  {
   "cell_type": "code",
   "execution_count": 2,
   "metadata": {
    "id": "9tDgc69fB4yD",
    "tags": []
   },
   "outputs": [],
   "source": [
    "import sys, time, os\n",
    "\n",
    "import torch\n",
    "from torch.utils.data import DataLoader\n",
    "\n",
    "from das_training.model import load_model, load_model_new\n",
    "from das_training.inference import pred_phasenet_das, pred_phasenet_das_new\n",
    "from das_training.training import train_model\n",
    "from das_training.data import DASIterableDataset, DASIterableDataset_new\n",
    "from das_training.ploting import print_hdf5_contents, ploting, ploting_new\n",
    "from das_training.myutils import normalize\n",
    "\n",
    "\n",
    "current_dir = os.getcwd()\n",
    "\n",
    "if current_dir not in sys.path:\n",
    "    sys.path.append(current_dir)\n",
    "\n",
    "import das_training"
   ]
  },
  {
   "cell_type": "markdown",
   "metadata": {},
   "source": [
    "<font size = 6> Testing </font>"
   ]
  },
  {
   "cell_type": "markdown",
   "metadata": {
    "id": "P5uElZih6Rt7"
   },
   "source": [
    "<font size = 6> Setting hyperparameters and directories </font>"
   ]
  },
  {
   "cell_type": "code",
   "execution_count": 3,
   "metadata": {
    "tags": []
   },
   "outputs": [
    {
     "name": "stdout",
     "output_type": "stream",
     "text": [
      "./results/picks_phasenet_das\n",
      "./results/events_phasenet_das\n",
      "./results/figures_phasenet_das\n"
     ]
    }
   ],
   "source": [
    "execfile('sources/hp_testing_10102024.py')\n",
    "pick_path = os.path.join(result_path, f\"picks_{model_name}\")\n",
    "event_path = os.path.join(result_path, f\"events_{model_name}\")\n",
    "figure_path = os.path.join(result_path, f\"figures_{model_name}\")\n",
    "print(pick_path)\n",
    "print(event_path)\n",
    "print(figure_path)"
   ]
  },
  {
   "cell_type": "markdown",
   "metadata": {
    "tags": []
   },
   "source": [
    "<font size=6> Loading the test dataset </font>"
   ]
  },
  {
   "cell_type": "code",
   "execution_count": 4,
   "metadata": {
    "tags": []
   },
   "outputs": [
    {
     "name": "stdout",
     "output_type": "stream",
     "text": [
      "Total samples: 12 files\n"
     ]
    }
   ],
   "source": [
    "test_dataset = DASIterableDataset_new(\n",
    "    data_path=data_path,\n",
    "    data_list=None,\n",
    "    label_path=label_path,\n",
    "    label_list=None,\n",
    "    training=False,\n",
    "    format=format,\n",
    "    nx=nx,\n",
    "    nt=nt,\n",
    "    system=None,\n",
    "    cut_patch=False,\n",
    "    highpass_filter=0.0,\n",
    "    resample_time=False,\n",
    "    resample_space=False,\n",
    "    skip_existing=False,\n",
    "    pick_path=pick_path,\n",
    "    folder_depth=0,\n",
    "    rank=0,\n",
    "    world_size=world_size\n",
    ")\n",
    "\n",
    "test_data_loader = torch.utils.data.DataLoader(\n",
    "    test_dataset,\n",
    "    batch_size=batch_size,\n",
    "    sampler=None,\n",
    "    num_workers=1,\n",
    "    collate_fn=None,\n",
    "    drop_last=False,\n",
    ")"
   ]
  },
  {
   "cell_type": "code",
   "execution_count": 5,
   "metadata": {
    "tags": []
   },
   "outputs": [
    {
     "name": "stdout",
     "output_type": "stream",
     "text": [
      "12\n",
      "torch.Size([1, 1, 12288, 2048])\n",
      "torch.Size([1, 1, 12288, 2048])\n",
      "torch.Size([1, 1, 12288, 2048])\n"
     ]
    }
   ],
   "source": [
    "print(len(test_dataset))\n",
    "\n",
    "try:\n",
    "    for (i,batch) in enumerate(test_data_loader):\n",
    "        mydata = batch['data']\n",
    "        print(mydata.shape)\n",
    "\n",
    "        if i > 1:\n",
    "            break\n",
    "except Exception as e:\n",
    "    print(f\"Error while iterating DataLoader: {e}\")            "
   ]
  },
  {
   "cell_type": "markdown",
   "metadata": {
    "id": "dNMaxUuuE1q9"
   },
   "source": [
    "<font size = 6> Training </font>"
   ]
  },
  {
   "cell_type": "markdown",
   "metadata": {
    "id": "ZNBoNqVZE74O"
   },
   "source": [
    "<font size =6> Setting hyperparameters </font>"
   ]
  },
  {
   "cell_type": "code",
   "execution_count": 6,
   "metadata": {
    "tags": []
   },
   "outputs": [],
   "source": [
    "execfile('sources/hp_training_10102024.py')"
   ]
  },
  {
   "cell_type": "markdown",
   "metadata": {
    "id": "LZEBKsNoFCP0"
   },
   "source": [
    "<font size = 6> Loading the training dataset </font>"
   ]
  },
  {
   "cell_type": "code",
   "execution_count": 7,
   "metadata": {
    "tags": []
   },
   "outputs": [
    {
     "name": "stdout",
     "output_type": "stream",
     "text": [
      "Total samples: 60 files\n"
     ]
    }
   ],
   "source": [
    "train_dataset = DASIterableDataset_new(\n",
    "        data_path=train_data_path,\n",
    "        data_list=None,\n",
    "        label_path=train_label_path,\n",
    "        label_list=None,\n",
    "        training=True,\n",
    "        format=train_format,\n",
    "        nx=nx,\n",
    "        nt=nt,\n",
    "        system=None,\n",
    "        cut_patch=False,\n",
    "        highpass_filter=0.0,\n",
    "        resample_time=False,\n",
    "        resample_space=False,\n",
    "        skip_existing=False,\n",
    "        pick_path=pick_path,\n",
    "        folder_depth=0,\n",
    "        rank=0,\n",
    "        world_size=world_size\n",
    "    )\n",
    "\n",
    "train_data_loader = torch.utils.data.DataLoader(\n",
    "        train_dataset,\n",
    "        batch_size=batch_size,\n",
    "        sampler=None,\n",
    "        num_workers=1,\n",
    "        collate_fn=None,\n",
    "        drop_last=False,\n",
    "    )"
   ]
  },
  {
   "cell_type": "code",
   "execution_count": 8,
   "metadata": {
    "tags": []
   },
   "outputs": [
    {
     "name": "stdout",
     "output_type": "stream",
     "text": [
      "training\n",
      "torch.Size([1, 1, 12288, 2048])\n",
      "torch.Size([1, 1, 12288, 2048])\n",
      "torch.Size([1, 1, 12288, 2048])\n"
     ]
    }
   ],
   "source": [
    "try:\n",
    "    for (i,batch) in enumerate(train_data_loader):\n",
    "        mydata = batch['data']\n",
    "        print(mydata.shape)\n",
    "        if i > 1:\n",
    "            break\n",
    "except Exception as e:\n",
    "    print(f\"Error while iterating DataLoader: {e}\")"
   ]
  },
  {
   "cell_type": "markdown",
   "metadata": {},
   "source": [
    "<font size=6> Loading the model </font>"
   ]
  },
  {
   "cell_type": "code",
   "execution_count": 10,
   "metadata": {
    "tags": []
   },
   "outputs": [],
   "source": [
    "model = load_model_new(model_name, backbone, phases, device, checkpoint_path='PhaseNet-DAS-v1.pth')\n",
    "\n",
    "## Unfixed values of the parameters ##\n",
    "\n",
    "for param in model.parameters():\n",
    "    param.requires_grad = True \n",
    "\n",
    "for param in model.classifier.parameters():\n",
    "    param.requires_grad = True\n",
    "    #print(param.shape) \n"
   ]
  },
  {
   "cell_type": "markdown",
   "metadata": {},
   "source": [
    "<font size = 6> Training </font>"
   ]
  },
  {
   "cell_type": "code",
   "execution_count": null,
   "metadata": {
    "tags": []
   },
   "outputs": [
    {
     "name": "stdout",
     "output_type": "stream",
     "text": [
      "training\n",
      "iteration 897; train loss: 0.011515\r"
     ]
    }
   ],
   "source": [
    "lr = 10**(-3)\n",
    "no_iter = 1000\n",
    "\n",
    "start = time.time()\n",
    "\n",
    "train_model(model=model, \n",
    "            train_data_loader=train_data_loader, \n",
    "            device=device, \n",
    "            lr=lr, \n",
    "            no_iter=no_iter)\n",
    "\n",
    "diff = time.time()-start\n",
    "print('\\n')\n",
    "print(round(diff, 2))"
   ]
  },
  {
   "cell_type": "markdown",
   "metadata": {},
   "source": [
    "<font size=6> Inference</font>"
   ]
  },
  {
   "cell_type": "code",
   "execution_count": null,
   "metadata": {
    "tags": []
   },
   "outputs": [],
   "source": [
    "model.eval()\n",
    "meta, output = pred_phasenet_das_new(model, test_data_loader, pick_path, figure_path, vmin=0.3)"
   ]
  },
  {
   "cell_type": "markdown",
   "metadata": {},
   "source": [
    "<font size = 6> Plotting results </font>"
   ]
  },
  {
   "cell_type": "code",
   "execution_count": null,
   "metadata": {
    "tags": []
   },
   "outputs": [],
   "source": [
    "import matplotlib\n",
    "import matplotlib.pyplot as plt\n",
    "import pandas as pd\n",
    "import numpy as np\n",
    "import os\n",
    "import h5py\n",
    "import matplotlib.patches as mpatches\n"
   ]
  },
  {
   "cell_type": "code",
   "execution_count": null,
   "metadata": {
    "tags": []
   },
   "outputs": [],
   "source": [
    "hdf5_filename = \"MiDAS_example_h5/MiDAS_20230815_170918.h5\"\n",
    "dir_nm = hdf5_filename.split('/')[0]\n",
    "print_hdf5_contents(hdf5_filename)\n",
    "\n",
    "ploting_new(hdf5_filename, dir_nm)"
   ]
  },
  {
   "cell_type": "code",
   "execution_count": null,
   "metadata": {
    "tags": []
   },
   "outputs": [],
   "source": [
    "hdf5_filename = \"MiDAS_good_72/test/MiDAS_20231223_023234.h5\"\n",
    "dir_nm = hdf5_filename.split('/')[0]\n",
    "print_hdf5_contents(hdf5_filename)\n",
    "\n",
    "ploting_new(hdf5_filename, dir_nm)"
   ]
  }
 ],
 "metadata": {
  "accelerator": "GPU",
  "colab": {
   "gpuType": "T4",
   "provenance": []
  },
  "kernelspec": {
   "display_name": "Python 3 (ipykernel)",
   "language": "python",
   "name": "python3"
  },
  "language_info": {
   "codemirror_mode": {
    "name": "ipython",
    "version": 3
   },
   "file_extension": ".py",
   "mimetype": "text/x-python",
   "name": "python",
   "nbconvert_exporter": "python",
   "pygments_lexer": "ipython3",
   "version": "3.11.4"
  }
 },
 "nbformat": 4,
 "nbformat_minor": 4
}
