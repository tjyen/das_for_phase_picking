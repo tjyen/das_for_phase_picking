{
 "cells": [
  {
   "cell_type": "markdown",
   "id": "77cc71eb-93ff-46fd-bcf3-d3deffd1e0fe",
   "metadata": {},
   "source": [
    "<font size = 6> Data pre-processing </font>"
   ]
  },
  {
   "cell_type": "code",
   "execution_count": null,
   "id": "9d94132a-8092-4ae3-8034-b5a829eed733",
   "metadata": {
    "tags": []
   },
   "outputs": [],
   "source": [
    "import os, glob, tarfile\n",
    "import pandas as pd\n"
   ]
  },
  {
   "cell_type": "code",
   "execution_count": null,
   "id": "17009f44-c236-49cb-8470-ef3c0480244b",
   "metadata": {},
   "outputs": [],
   "source": [
    "dir_name='MiDAS_good_72'\n",
    "os.mkdir(dir_name)\n",
    "\n",
    "tar = tarfile.open(\"MiDAS_good_72.tar.gz\")\n",
    "names = tar.getnames()\n",
    "\n",
    "for name in names:\n",
    "    tar.extract(name, dir_name)\n",
    "    print(name)"
   ]
  },
  {
   "cell_type": "markdown",
   "id": "a62636d4-07d0-4a75-adb2-f4362d9f442d",
   "metadata": {},
   "source": [
    "<font size = 6> Labelling channels: 1 = surface; 2 = underground </font>"
   ]
  },
  {
   "cell_type": "code",
   "execution_count": null,
   "id": "35fe084b-a8d1-49c2-9e06-009663a74bec",
   "metadata": {
    "tags": []
   },
   "outputs": [],
   "source": [
    "#dir_name = 'MiDAS_good_72/train/'\n",
    "dir_name = 'MiDAS_good_72/label/'\n",
    "dir_name_2 = 'MiDAS_good_72/train2/'\n",
    "\n",
    "#file_list = os.listdir(dir_name)\n",
    "file_list = glob.glob(dir_name+'*.csv')\n",
    "\n",
    "suffix='_good.csv'\n",
    "\n",
    "for k in range(len(file_list)):\n",
    "\n",
    "    myfile = pd.read_csv(file_list[k])\n",
    "\n",
    "    direction = []\n",
    "    \n",
    "    for i in range(len(myfile)):\n",
    "\n",
    "        direction_i = 0\n",
    "\n",
    "        if (myfile['channel_index'][i] >=0) & (myfile['channel_index'][i] <= 648):\n",
    "            direction_i = 1\n",
    "        if (myfile['channel_index'][i] > 648) & (myfile['channel_index'][i] <= 894):\n",
    "            direction_i = 2\n",
    "        if (myfile['channel_index'][i] > 894) & (myfile['channel_index'][i] <= 1235):\n",
    "            direction_i = 1\n",
    "        if (myfile['channel_index'][i] > 1235) & (myfile['channel_index'][i] <= 1574):\n",
    "            direction_i = 2\n",
    "        if (myfile['channel_index'][i] > 1574):\n",
    "            direction_i = 1\n",
    "\n",
    "        direction.append(direction_i)\n",
    "\n",
    "    myfile['direction'] = direction\n",
    "    \n",
    "    file_name_k=os.path.basename(file_list[k])\n",
    "    \n",
    "    if file_name_k.endswith(suffix):\n",
    "        file_name_k = file_name_k[:-len(suffix)]+'.csv'\n",
    "    \n",
    "    file_name_k = dir_name_2 + file_name_k\n",
    "    myfile.to_csv(file_name_k)\n",
    "    \n",
    "print(myfile)\n",
    "print(file_name)\n",
    "print(len(file_list))"
   ]
  },
  {
   "cell_type": "code",
   "execution_count": null,
   "id": "3f00a21c-9242-455b-8685-2771d23c905b",
   "metadata": {
    "tags": []
   },
   "outputs": [],
   "source": [
    "dir_name = 'MiDAS_good_72/train/'\n",
    "dir_name_2 = 'MiDAS_good_72/label/'\n",
    "#file_list = os.listdir(dir_name_2)\n",
    "file_list = glob.glob(dir_name_2+'*.csv')\n",
    "suffix = '_good.csv'\n",
    "\n",
    "\n",
    "for k in range(len(file_list)):\n",
    "    \n",
    "    file_name_k=os.path.basename(file_list[k])\n",
    "    \n",
    "    if file_name_k.endswith(suffix):\n",
    "        file_name_k = file_name_k[:-len(suffix)]+'.csv'\n",
    "    \n",
    "    print(file_name_k)"
   ]
  },
  {
   "cell_type": "code",
   "execution_count": null,
   "id": "cf0975dc-2b18-4549-b2d6-c9fd8eb41769",
   "metadata": {},
   "outputs": [],
   "source": [
    "suffix = \"_good.csv\"\n",
    "os.path.basename(file_list[k])\n",
    "if os.path.basename(file_list[k]).endswith(suffix):\n",
    "    file_list[k] = file_list[k][:-len(suffix)]+'.csv'"
   ]
  }
 ],
 "metadata": {
  "kernelspec": {
   "display_name": "Python 3 (ipykernel)",
   "language": "python",
   "name": "python3"
  },
  "language_info": {
   "codemirror_mode": {
    "name": "ipython",
    "version": 3
   },
   "file_extension": ".py",
   "mimetype": "text/x-python",
   "name": "python",
   "nbconvert_exporter": "python",
   "pygments_lexer": "ipython3",
   "version": "3.11.4"
  }
 },
 "nbformat": 4,
 "nbformat_minor": 5
}
